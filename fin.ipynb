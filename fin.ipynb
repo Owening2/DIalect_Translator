{
 "cells": [
  {
   "cell_type": "code",
   "execution_count": 1,
   "metadata": {},
   "outputs": [],
   "source": [
    "import json\n",
    "import pandas as pd\n",
    "import re\n",
    "import numpy as np\n",
    "\n",
    "from keras.models import Sequential\n",
    "from keras.layers import Dense, LSTM, Embedding\n",
    "\n",
    "from keras.preprocessing import sequence\n",
    "from keras.utils import np_utils\n",
    "\n",
    "import os\n",
    "import shutil\n",
    "import urllib3\n",
    "import zipfile\n",
    "import pandas as pd\n",
    "import json"
   ]
  },
  {
   "cell_type": "code",
   "execution_count": 7,
   "metadata": {},
   "outputs": [],
   "source": [
    "f = open(\"[라벨]경상도_학습데이터_1/DKCI20000001.json\", encoding=\"UTF-8\")\n",
    "raw_data = json.loads(f.read())"
   ]
  },
  {
   "cell_type": "code",
   "execution_count": 8,
   "metadata": {},
   "outputs": [],
   "source": [
    "# 사투리, 표준어 사전 생성 함수\n",
    "def make_dict(raw_data):\n",
    "\n",
    "    dialect_word = []\n",
    "    standard_word = [] \n",
    "    \n",
    "    \n",
    "    for i in range(len(raw_data[\"utterance\"])):\n",
    "        eojeol = raw_data[\"utterance\"][i][\"eojeolList\"]\n",
    "            \n",
    "        for k in range(len(eojeol)):\n",
    "            if eojeol[k][\"isDialect\"] == True:\n",
    "                if k not in dialect_word:\n",
    "                    dialect_word.append(eojeol[k]['eojeol'])\n",
    "                    standard_word.append(eojeol[k]['standard'])\n",
    "\n",
    "    word_dictionary = pd.DataFrame([dialect_word, standard_word])\n",
    "    word_dictionary = word_dictionary.transpose()\n",
    "    word_dictionary.columns = ['dialect', 'standard']\n",
    "    dialect_dictionary = word_dictionary['dialect']\n",
    "    standard_dictionary = word_dictionary['standard']\n",
    "    dialect_dict = dialect_dictionary.to_dict()\n",
    "    standard_dict = standard_dictionary.to_dict()\n",
    "\n",
    "    index_to_dialect = {v:k for k,v in dialect_dict.items()}\n",
    "    index_to_standard = {v:k for k,v in standard_dict.items()}\n",
    "\n",
    "    dialect_to_index = {v:k for k,v in index_to_dialect.items()}\n",
    "    standard_to_index = {v:k for k,v in index_to_standard.items()}\n",
    "\n",
    "    print(len(index_to_dialect))\n",
    "    print(len(dialect_to_index))\n",
    "\n",
    "    print(len(index_to_standard))\n",
    "    print(len(standard_to_index))\n",
    "    \n",
    "\n",
    "    return dialect_to_index,standard_to_index,index_to_dialect,index_to_standard\n",
    "   "
   ]
  },
  {
   "cell_type": "code",
   "execution_count": 10,
   "metadata": {},
   "outputs": [
    {
     "name": "stdout",
     "output_type": "stream",
     "text": [
      "236\n",
      "236\n",
      "223\n",
      "223\n"
     ]
    }
   ],
   "source": [
    "index_to_dialect,index_to_standard,dialect_to_index,standard_to_index = make_dict(raw_data)"
   ]
  },
  {
   "cell_type": "code",
   "execution_count": 11,
   "metadata": {},
   "outputs": [],
   "source": [
    "# 사투리 표준어 쌍 생성 함수\n",
    "def make_pair(raw_data):\n",
    "    filter = re.compile('[^가-힣+]')\n",
    "\n",
    "    dialect_form = []\n",
    "    standard_form = []\n",
    "\n",
    "    for i in range(len(raw_data[\"utterance\"])):\n",
    "        sentence = raw_data[\"utterance\"][i]\n",
    "        \n",
    "        for j in range(len(sentence[\"eojeolList\"])):\n",
    "            #print(sentence[\"eojeolList\"][0]['eojeol'])\n",
    "            if sentence[\"eojeolList\"][j]['isDialect'] == True:\n",
    "                try : \n",
    "\n",
    "                    dialect = sentence[\"eojeolList\"][j][\"eojeol\"]\n",
    "                    standard = sentence[\"eojeolList\"][j][\"standard\"]\n",
    "                    \n",
    "                    dialect = filter.sub('', dialect)\n",
    "                    standard = filter.sub('', standard)\n",
    "                    \n",
    "                    dialect = dialect_to_index[dialect]\n",
    "                    standard = standard_to_index[standard]\n",
    "\n",
    "                    dialect_form.append(dialect)\n",
    "                    standard_form.append(standard)\n",
    "                except:\n",
    "                    pass\n",
    "\n",
    "    result = pd.DataFrame(data = {\"dialect_words\":dialect_form, \"standard_words\": standard_form})\n",
    "\n",
    "\n",
    "    return result\n",
    "               "
   ]
  },
  {
   "cell_type": "code",
   "execution_count": 12,
   "metadata": {},
   "outputs": [],
   "source": [
    "pairs = make_pair(raw_data)"
   ]
  },
  {
   "cell_type": "code",
   "execution_count": 39,
   "metadata": {},
   "outputs": [],
   "source": [
    "# 사투리 사전에 존재하는지 확인하는 함수\n",
    "\n",
    "def exist_in_dialect(x):\n",
    "\n",
    "    if x in dialect_to_index:\n",
    "        return True\n",
    "    else:\n",
    "        return False\n"
   ]
  },
  {
   "cell_type": "code",
   "execution_count": 40,
   "metadata": {},
   "outputs": [
    {
     "data": {
      "text/plain": [
       "False"
      ]
     },
     "execution_count": 40,
     "metadata": {},
     "output_type": "execute_result"
    }
   ],
   "source": [
    "exist_in_dialect(\"자가격리\")"
   ]
  },
  {
   "cell_type": "code",
   "execution_count": 14,
   "metadata": {},
   "outputs": [
    {
     "data": {
      "text/plain": [
       "416"
      ]
     },
     "execution_count": 14,
     "metadata": {},
     "output_type": "execute_result"
    }
   ],
   "source": [
    "xtrain = np_utils.to_categorical(pairs[\"dialect_words\"])\n",
    "ytrain = np_utils.to_categorical(pairs[\"standard_words\"])\n",
    "len(xtrain[0])"
   ]
  },
  {
   "cell_type": "code",
   "execution_count": 15,
   "metadata": {},
   "outputs": [
    {
     "data": {
      "text/plain": [
       "(398, 416)"
      ]
     },
     "execution_count": 15,
     "metadata": {},
     "output_type": "execute_result"
    }
   ],
   "source": [
    "xtrain.shape"
   ]
  },
  {
   "cell_type": "code",
   "execution_count": 16,
   "metadata": {},
   "outputs": [],
   "source": [
    "model = Sequential()\n",
    "model.add(Dense(256, input_dim = 416, activation=\"relu\"))\n",
    "model.add(Dense(416, activation=\"softmax\"))"
   ]
  },
  {
   "cell_type": "code",
   "execution_count": 17,
   "metadata": {},
   "outputs": [],
   "source": [
    "model.compile(loss='categorical_crossentropy', optimizer='adam', metrics=['accuracy'])"
   ]
  },
  {
   "cell_type": "code",
   "execution_count": 18,
   "metadata": {},
   "outputs": [
    {
     "name": "stdout",
     "output_type": "stream",
     "text": [
      "Epoch 1/100\n",
      "4/4 [==============================] - 1s 7ms/step - loss: 6.0239 - accuracy: 0.0000e+00\n",
      "Epoch 2/100\n",
      "4/4 [==============================] - 0s 8ms/step - loss: 5.9675 - accuracy: 0.2060\n",
      "Epoch 3/100\n",
      "4/4 [==============================] - 0s 7ms/step - loss: 5.9117 - accuracy: 0.4221\n",
      "Epoch 4/100\n",
      "4/4 [==============================] - 0s 11ms/step - loss: 5.8536 - accuracy: 0.5176\n",
      "Epoch 5/100\n",
      "4/4 [==============================] - 0s 16ms/step - loss: 5.7904 - accuracy: 0.5754\n",
      "Epoch 6/100\n",
      "4/4 [==============================] - 0s 14ms/step - loss: 5.7200 - accuracy: 0.5905\n",
      "Epoch 7/100\n",
      "4/4 [==============================] - 0s 16ms/step - loss: 5.6429 - accuracy: 0.5980\n",
      "Epoch 8/100\n",
      "4/4 [==============================] - 0s 15ms/step - loss: 5.5548 - accuracy: 0.5955\n",
      "Epoch 9/100\n",
      "4/4 [==============================] - 0s 15ms/step - loss: 5.4581 - accuracy: 0.5804\n",
      "Epoch 10/100\n",
      "4/4 [==============================] - 0s 13ms/step - loss: 5.3483 - accuracy: 0.5628\n",
      "Epoch 11/100\n",
      "4/4 [==============================] - 0s 17ms/step - loss: 5.2285 - accuracy: 0.5503\n",
      "Epoch 12/100\n",
      "4/4 [==============================] - 0s 12ms/step - loss: 5.0952 - accuracy: 0.5251\n",
      "Epoch 13/100\n",
      "4/4 [==============================] - 0s 15ms/step - loss: 4.9491 - accuracy: 0.5126\n",
      "Epoch 14/100\n",
      "4/4 [==============================] - 0s 9ms/step - loss: 4.7894 - accuracy: 0.4975\n",
      "Epoch 15/100\n",
      "4/4 [==============================] - 0s 9ms/step - loss: 4.6149 - accuracy: 0.4899\n",
      "Epoch 16/100\n",
      "4/4 [==============================] - 0s 22ms/step - loss: 4.4317 - accuracy: 0.4799\n",
      "Epoch 17/100\n",
      "4/4 [==============================] - 0s 13ms/step - loss: 4.2402 - accuracy: 0.4698\n",
      "Epoch 18/100\n",
      "4/4 [==============================] - 0s 16ms/step - loss: 4.0380 - accuracy: 0.4598\n",
      "Epoch 19/100\n",
      "4/4 [==============================] - 0s 21ms/step - loss: 3.8333 - accuracy: 0.4573\n",
      "Epoch 20/100\n",
      "4/4 [==============================] - 0s 16ms/step - loss: 3.6321 - accuracy: 0.4397\n",
      "Epoch 21/100\n",
      "4/4 [==============================] - 0s 12ms/step - loss: 3.4300 - accuracy: 0.4372\n",
      "Epoch 22/100\n",
      "4/4 [==============================] - 0s 17ms/step - loss: 3.2453 - accuracy: 0.4322\n",
      "Epoch 23/100\n",
      "4/4 [==============================] - 0s 23ms/step - loss: 3.0667 - accuracy: 0.4322\n",
      "Epoch 24/100\n",
      "4/4 [==============================] - 0s 17ms/step - loss: 2.9043 - accuracy: 0.4372\n",
      "Epoch 25/100\n",
      "4/4 [==============================] - 0s 14ms/step - loss: 2.7608 - accuracy: 0.4422\n",
      "Epoch 26/100\n",
      "4/4 [==============================] - 0s 13ms/step - loss: 2.6310 - accuracy: 0.4447\n",
      "Epoch 27/100\n",
      "4/4 [==============================] - 0s 16ms/step - loss: 2.5103 - accuracy: 0.4497\n",
      "Epoch 28/100\n",
      "4/4 [==============================] - 0s 21ms/step - loss: 2.3973 - accuracy: 0.4698\n",
      "Epoch 29/100\n",
      "4/4 [==============================] - 0s 14ms/step - loss: 2.2906 - accuracy: 0.4874\n",
      "Epoch 30/100\n",
      "4/4 [==============================] - 0s 8ms/step - loss: 2.1867 - accuracy: 0.5050\n",
      "Epoch 31/100\n",
      "4/4 [==============================] - 0s 6ms/step - loss: 2.0871 - accuracy: 0.5176\n",
      "Epoch 32/100\n",
      "4/4 [==============================] - 0s 27ms/step - loss: 1.9888 - accuracy: 0.5427\n",
      "Epoch 33/100\n",
      "4/4 [==============================] - 0s 23ms/step - loss: 1.8943 - accuracy: 0.6005\n",
      "Epoch 34/100\n",
      "4/4 [==============================] - 0s 15ms/step - loss: 1.8027 - accuracy: 0.7085\n",
      "Epoch 35/100\n",
      "4/4 [==============================] - 0s 10ms/step - loss: 1.7153 - accuracy: 0.8090\n",
      "Epoch 36/100\n",
      "4/4 [==============================] - 0s 15ms/step - loss: 1.6248 - accuracy: 0.9045\n",
      "Epoch 37/100\n",
      "4/4 [==============================] - 0s 16ms/step - loss: 1.5398 - accuracy: 0.9347\n",
      "Epoch 38/100\n",
      "4/4 [==============================] - 0s 13ms/step - loss: 1.4525 - accuracy: 0.9523\n",
      "Epoch 39/100\n",
      "4/4 [==============================] - 0s 13ms/step - loss: 1.3705 - accuracy: 0.9523\n",
      "Epoch 40/100\n",
      "4/4 [==============================] - 0s 7ms/step - loss: 1.2904 - accuracy: 0.9523\n",
      "Epoch 41/100\n",
      "4/4 [==============================] - 0s 6ms/step - loss: 1.2110 - accuracy: 0.9523\n",
      "Epoch 42/100\n",
      "4/4 [==============================] - 0s 13ms/step - loss: 1.1329 - accuracy: 0.9523\n",
      "Epoch 43/100\n",
      "4/4 [==============================] - 0s 13ms/step - loss: 1.0578 - accuracy: 0.9523\n",
      "Epoch 44/100\n",
      "4/4 [==============================] - 0s 20ms/step - loss: 0.9867 - accuracy: 0.9523\n",
      "Epoch 45/100\n",
      "4/4 [==============================] - 0s 8ms/step - loss: 0.9174 - accuracy: 0.9523\n",
      "Epoch 46/100\n",
      "4/4 [==============================] - 0s 15ms/step - loss: 0.8505 - accuracy: 0.9523\n",
      "Epoch 47/100\n",
      "4/4 [==============================] - 0s 17ms/step - loss: 0.7876 - accuracy: 0.9523\n",
      "Epoch 48/100\n",
      "4/4 [==============================] - 0s 9ms/step - loss: 0.7276 - accuracy: 0.9523\n",
      "Epoch 49/100\n",
      "4/4 [==============================] - 0s 8ms/step - loss: 0.6719 - accuracy: 0.9523\n",
      "Epoch 50/100\n",
      "4/4 [==============================] - 0s 9ms/step - loss: 0.6199 - accuracy: 0.9523\n",
      "Epoch 51/100\n",
      "4/4 [==============================] - 0s 13ms/step - loss: 0.5714 - accuracy: 0.9523\n",
      "Epoch 52/100\n",
      "4/4 [==============================] - 0s 13ms/step - loss: 0.5278 - accuracy: 0.9523\n",
      "Epoch 53/100\n",
      "4/4 [==============================] - 0s 14ms/step - loss: 0.4888 - accuracy: 0.9523\n",
      "Epoch 54/100\n",
      "4/4 [==============================] - 0s 16ms/step - loss: 0.4526 - accuracy: 0.9523\n",
      "Epoch 55/100\n",
      "4/4 [==============================] - 0s 15ms/step - loss: 0.4198 - accuracy: 0.9523\n",
      "Epoch 56/100\n",
      "4/4 [==============================] - 0s 13ms/step - loss: 0.3919 - accuracy: 0.9523\n",
      "Epoch 57/100\n",
      "4/4 [==============================] - 0s 16ms/step - loss: 0.3662 - accuracy: 0.9523\n",
      "Epoch 58/100\n",
      "4/4 [==============================] - 0s 13ms/step - loss: 0.3440 - accuracy: 0.9523\n",
      "Epoch 59/100\n",
      "4/4 [==============================] - 0s 16ms/step - loss: 0.3237 - accuracy: 0.9523\n",
      "Epoch 60/100\n",
      "4/4 [==============================] - 0s 9ms/step - loss: 0.3060 - accuracy: 0.9523\n",
      "Epoch 61/100\n",
      "4/4 [==============================] - 0s 16ms/step - loss: 0.2907 - accuracy: 0.9523\n",
      "Epoch 62/100\n",
      "4/4 [==============================] - 0s 12ms/step - loss: 0.2763 - accuracy: 0.9523\n",
      "Epoch 63/100\n",
      "4/4 [==============================] - 0s 12ms/step - loss: 0.2644 - accuracy: 0.9523\n",
      "Epoch 64/100\n",
      "4/4 [==============================] - 0s 7ms/step - loss: 0.2538 - accuracy: 0.9523\n",
      "Epoch 65/100\n",
      "4/4 [==============================] - 0s 9ms/step - loss: 0.2441 - accuracy: 0.9523\n",
      "Epoch 66/100\n",
      "4/4 [==============================] - 0s 10ms/step - loss: 0.2353 - accuracy: 0.9523\n",
      "Epoch 67/100\n",
      "4/4 [==============================] - 0s 9ms/step - loss: 0.2275 - accuracy: 0.9523\n",
      "Epoch 68/100\n",
      "4/4 [==============================] - 0s 11ms/step - loss: 0.2208 - accuracy: 0.9523\n",
      "Epoch 69/100\n",
      "4/4 [==============================] - 0s 22ms/step - loss: 0.2146 - accuracy: 0.9523\n",
      "Epoch 70/100\n",
      "4/4 [==============================] - 0s 9ms/step - loss: 0.2091 - accuracy: 0.9523\n",
      "Epoch 71/100\n",
      "4/4 [==============================] - 0s 9ms/step - loss: 0.2041 - accuracy: 0.9523\n",
      "Epoch 72/100\n",
      "4/4 [==============================] - 0s 14ms/step - loss: 0.1995 - accuracy: 0.9523\n",
      "Epoch 73/100\n",
      "4/4 [==============================] - 0s 11ms/step - loss: 0.1948 - accuracy: 0.9523\n",
      "Epoch 74/100\n",
      "4/4 [==============================] - 0s 13ms/step - loss: 0.1912 - accuracy: 0.9523\n",
      "Epoch 75/100\n",
      "4/4 [==============================] - 0s 15ms/step - loss: 0.1873 - accuracy: 0.9523\n",
      "Epoch 76/100\n",
      "4/4 [==============================] - 0s 13ms/step - loss: 0.1841 - accuracy: 0.9523\n",
      "Epoch 77/100\n",
      "4/4 [==============================] - 0s 7ms/step - loss: 0.1808 - accuracy: 0.9523\n",
      "Epoch 78/100\n",
      "4/4 [==============================] - 0s 8ms/step - loss: 0.1781 - accuracy: 0.9497\n",
      "Epoch 79/100\n",
      "4/4 [==============================] - 0s 14ms/step - loss: 0.1753 - accuracy: 0.9523\n",
      "Epoch 80/100\n",
      "4/4 [==============================] - 0s 13ms/step - loss: 0.1730 - accuracy: 0.9497\n",
      "Epoch 81/100\n",
      "4/4 [==============================] - 0s 12ms/step - loss: 0.1707 - accuracy: 0.9523\n",
      "Epoch 82/100\n",
      "4/4 [==============================] - 0s 7ms/step - loss: 0.1687 - accuracy: 0.9523\n",
      "Epoch 83/100\n",
      "4/4 [==============================] - 0s 7ms/step - loss: 0.1667 - accuracy: 0.9523\n",
      "Epoch 84/100\n",
      "4/4 [==============================] - 0s 6ms/step - loss: 0.1651 - accuracy: 0.9497\n",
      "Epoch 85/100\n",
      "4/4 [==============================] - 0s 13ms/step - loss: 0.1631 - accuracy: 0.9497\n",
      "Epoch 86/100\n",
      "4/4 [==============================] - 0s 15ms/step - loss: 0.1614 - accuracy: 0.9523\n",
      "Epoch 87/100\n",
      "4/4 [==============================] - 0s 12ms/step - loss: 0.1596 - accuracy: 0.9497\n",
      "Epoch 88/100\n",
      "4/4 [==============================] - 0s 20ms/step - loss: 0.1591 - accuracy: 0.9497\n",
      "Epoch 89/100\n",
      "4/4 [==============================] - 0s 15ms/step - loss: 0.1568 - accuracy: 0.9523\n",
      "Epoch 90/100\n",
      "4/4 [==============================] - 0s 13ms/step - loss: 0.1557 - accuracy: 0.9497\n",
      "Epoch 91/100\n",
      "4/4 [==============================] - 0s 9ms/step - loss: 0.1546 - accuracy: 0.9523\n",
      "Epoch 92/100\n",
      "4/4 [==============================] - 0s 17ms/step - loss: 0.1533 - accuracy: 0.9523\n",
      "Epoch 93/100\n",
      "4/4 [==============================] - 0s 13ms/step - loss: 0.1522 - accuracy: 0.9523\n",
      "Epoch 94/100\n",
      "4/4 [==============================] - 0s 13ms/step - loss: 0.1510 - accuracy: 0.9523\n",
      "Epoch 95/100\n",
      "4/4 [==============================] - 0s 16ms/step - loss: 0.1499 - accuracy: 0.9523\n",
      "Epoch 96/100\n",
      "4/4 [==============================] - 0s 7ms/step - loss: 0.1489 - accuracy: 0.9523\n",
      "Epoch 97/100\n",
      "4/4 [==============================] - 0s 11ms/step - loss: 0.1481 - accuracy: 0.9497\n",
      "Epoch 98/100\n",
      "4/4 [==============================] - 0s 15ms/step - loss: 0.1472 - accuracy: 0.9523\n",
      "Epoch 99/100\n",
      "4/4 [==============================] - 0s 14ms/step - loss: 0.1465 - accuracy: 0.9523\n",
      "Epoch 100/100\n",
      "4/4 [==============================] - 0s 11ms/step - loss: 0.1456 - accuracy: 0.9523\n"
     ]
    },
    {
     "data": {
      "text/plain": [
       "<keras.callbacks.History at 0x20dc9d109e8>"
      ]
     },
     "execution_count": 18,
     "metadata": {},
     "output_type": "execute_result"
    }
   ],
   "source": [
    "model.fit(xtrain, ytrain, batch_size=100, epochs=100)"
   ]
  },
  {
   "cell_type": "code",
   "execution_count": 24,
   "metadata": {},
   "outputs": [],
   "source": [
    "# 문장 번역 함수\n",
    "def translate(sentence):\n",
    "    res = \"\"\n",
    "\n",
    "    sentence = sentence.split()\n",
    "\n",
    "    for i in range(len(sentence)):\n",
    "        if exist_in_dialect(sentence[i]) == True:\n",
    "            print(dialect_to_index[sentence[i]])\n",
    "            index = dialect_to_index[sentence[i]]\n",
    "            one_hot = np_utils.to_categorical(index,len(xtrain[0])) #인덱스 배열의크기 지정 필요 size_of_dialect\n",
    "            pred_index = np.argmax(model.predict(np.array([one_hot])))\n",
    "            res = res + \" \" + index_to_standard[pred_index]\n",
    "\n",
    "        else:\n",
    "            res = res + \" \" + sentence[i]\n",
    "\n",
    "    return res\n"
   ]
  },
  {
   "cell_type": "code",
   "execution_count": 25,
   "metadata": {},
   "outputs": [
    {
     "ename": "KeyError",
     "evalue": "'자가격리'",
     "output_type": "error",
     "traceback": [
      "\u001b[1;31m---------------------------------------------------------------------------\u001b[0m",
      "\u001b[1;31mKeyError\u001b[0m                                  Traceback (most recent call last)",
      "\u001b[1;32m<ipython-input-25-59e7f37e0a51>\u001b[0m in \u001b[0;36m<module>\u001b[1;34m\u001b[0m\n\u001b[1;32m----> 1\u001b[1;33m \u001b[0mtranslate\u001b[0m\u001b[1;33m(\u001b[0m\u001b[1;34m\"자가격리 이주 했다 아이가\"\u001b[0m\u001b[1;33m)\u001b[0m\u001b[1;33m\u001b[0m\u001b[1;33m\u001b[0m\u001b[0m\n\u001b[0m",
      "\u001b[1;32m<ipython-input-24-f6ccac90bf04>\u001b[0m in \u001b[0;36mtranslate\u001b[1;34m(sentence)\u001b[0m\n\u001b[0;32m      7\u001b[0m     \u001b[1;32mfor\u001b[0m \u001b[0mi\u001b[0m \u001b[1;32min\u001b[0m \u001b[0mrange\u001b[0m\u001b[1;33m(\u001b[0m\u001b[0mlen\u001b[0m\u001b[1;33m(\u001b[0m\u001b[0msentence\u001b[0m\u001b[1;33m)\u001b[0m\u001b[1;33m)\u001b[0m\u001b[1;33m:\u001b[0m\u001b[1;33m\u001b[0m\u001b[1;33m\u001b[0m\u001b[0m\n\u001b[0;32m      8\u001b[0m         \u001b[1;32mif\u001b[0m \u001b[0mexist_in_dialect\u001b[0m\u001b[1;33m(\u001b[0m\u001b[0msentence\u001b[0m\u001b[1;33m[\u001b[0m\u001b[0mi\u001b[0m\u001b[1;33m]\u001b[0m\u001b[1;33m)\u001b[0m \u001b[1;33m==\u001b[0m \u001b[1;32mTrue\u001b[0m\u001b[1;33m:\u001b[0m\u001b[1;33m\u001b[0m\u001b[1;33m\u001b[0m\u001b[0m\n\u001b[1;32m----> 9\u001b[1;33m             \u001b[0mprint\u001b[0m\u001b[1;33m(\u001b[0m\u001b[0mdialect_to_index\u001b[0m\u001b[1;33m[\u001b[0m\u001b[0msentence\u001b[0m\u001b[1;33m[\u001b[0m\u001b[0mi\u001b[0m\u001b[1;33m]\u001b[0m\u001b[1;33m]\u001b[0m\u001b[1;33m)\u001b[0m\u001b[1;33m\u001b[0m\u001b[1;33m\u001b[0m\u001b[0m\n\u001b[0m\u001b[0;32m     10\u001b[0m             \u001b[0mindex\u001b[0m \u001b[1;33m=\u001b[0m \u001b[0mdialect_to_index\u001b[0m\u001b[1;33m[\u001b[0m\u001b[0msentence\u001b[0m\u001b[1;33m[\u001b[0m\u001b[0mi\u001b[0m\u001b[1;33m]\u001b[0m\u001b[1;33m]\u001b[0m\u001b[1;33m\u001b[0m\u001b[1;33m\u001b[0m\u001b[0m\n\u001b[0;32m     11\u001b[0m             \u001b[0mone_hot\u001b[0m \u001b[1;33m=\u001b[0m \u001b[0mnp_utils\u001b[0m\u001b[1;33m.\u001b[0m\u001b[0mto_categorical\u001b[0m\u001b[1;33m(\u001b[0m\u001b[0mindex\u001b[0m\u001b[1;33m,\u001b[0m\u001b[0mlen\u001b[0m\u001b[1;33m(\u001b[0m\u001b[0mxtrain\u001b[0m\u001b[1;33m[\u001b[0m\u001b[1;36m0\u001b[0m\u001b[1;33m]\u001b[0m\u001b[1;33m)\u001b[0m\u001b[1;33m)\u001b[0m \u001b[1;31m#인덱스 배열의크기 지정 필요 size_of_dialect\u001b[0m\u001b[1;33m\u001b[0m\u001b[1;33m\u001b[0m\u001b[0m\n",
      "\u001b[1;31mKeyError\u001b[0m: '자가격리'"
     ]
    }
   ],
   "source": [
    "translate(\"자가격리 이주 했다 아이가\")"
   ]
  },
  {
   "cell_type": "code",
   "execution_count": 30,
   "metadata": {},
   "outputs": [
    {
     "data": {
      "text/plain": [
       "True"
      ]
     },
     "execution_count": 30,
     "metadata": {},
     "output_type": "execute_result"
    }
   ],
   "source": [
    "exist_in_dialect(\"인덱스\")"
   ]
  },
  {
   "cell_type": "code",
   "execution_count": null,
   "metadata": {},
   "outputs": [],
   "source": [
    "pos_dict = {\"NNG\": 0, \"NNP\": 1, \"NNB\": 2, \"NP\": 3, \"NR\": 4, \"VV\": 5,\n",
    "           \"VA\": 6, \"VX\": 7, \"VCP\": 8, \"VCN\": 9, \"MM\": 10, \"MAG\": 11,\n",
    "           \"MAJ\": 12, \"IC\": 13, \"JKS\": 14, \"JKC\": 15, \"JKG\": 16, \"JKO\": 17,\n",
    "           \"JKB\": 18, \"JKV\": 19, \"JKQ\": 20, \"JX\": 21, \"JC\": 22, \"EP\": 23,\n",
    "           \"EF\": 24, \"EC\": 25, \"ETN\": 26, \"ETM\": 27, \"XPN\": 28, \"XSN\": 29,\n",
    "           \"XSV\": 30, \"XSA\": 31, \"XR\": 32, \"SF\":  33, \"SP\": 34, \"SS\": 35,\n",
    "           \"SE\": 36, \"SO\": 37,  \"SL\": 38, \"SH\": 39, \"SW\": 40, \"NF\": 41,\n",
    "           \"NV\": 42, \"SN\": 43, \"NA\": 44}"
   ]
  },
  {
   "cell_type": "code",
   "execution_count": null,
   "metadata": {},
   "outputs": [],
   "source": []
  },
  {
   "cell_type": "code",
   "execution_count": 2,
   "metadata": {},
   "outputs": [],
   "source": [
    "def make_eojeol(standard_to_index, dialect_to_index):\n",
    "    eojeol_list=[]\n",
    "    st_list = []\n",
    "    di_list = []\n",
    "    \n",
    "    for k in standard_to_index:\n",
    "        st_list.append(k)\n",
    "        \n",
    "    for v in dialect_to_index:\n",
    "        di_list.append(v)\n",
    "        \n",
    "    for i, j in zip(st_list, di_list):\n",
    "        \n",
    "        eojeol_list.append(i)\n",
    "        \n",
    "        if i == j:\n",
    "            eojeol_list.append(j + \"0\")\n",
    "        else:\n",
    "            eojeol_list.append(j)   \n",
    "            \n",
    "    eojeol_df = pd.DataFrame(eojeol_list, columns=None)\n",
    "    eojeol_dict = eojeol_df.to_dict()\n",
    "    eojeol_dict = eojeol_dict[0]\n",
    "    eojeol_dict = {v:k for k,v in eojeol_dict.items()}\n",
    "    print(eojeol_dict)\n",
    "\n",
    "    return eojeol_dict"
   ]
  },
  {
   "cell_type": "code",
   "execution_count": null,
   "metadata": {},
   "outputs": [],
   "source": [
    "eojeol_dict = make_eojeol()\n"
   ]
  },
  {
   "cell_type": "code",
   "execution_count": 3,
   "metadata": {},
   "outputs": [],
   "source": [
    "def eojeol_dependence():\n",
    "    for i in range(len(raw_data[\"utterance\"])):\n",
    "        sta=raw_data['utterance'][i]['standard_form']\n",
    "        dia=raw_data['utterance'][i]['dialect_form']\n",
    "        print(sta.split())"
   ]
  },
  {
   "cell_type": "code",
   "execution_count": null,
   "metadata": {},
   "outputs": [],
   "source": [
    "df_eojeol_dependence = eojeol_dependence()"
   ]
  },
  {
   "cell_type": "code",
   "execution_count": 4,
   "metadata": {},
   "outputs": [],
   "source": [
    "def predict_synonym():\n",
    "    res = 0\n",
    "    return res"
   ]
  },
  {
   "cell_type": "code",
   "execution_count": null,
   "metadata": {},
   "outputs": [],
   "source": []
  }
 ],
 "metadata": {
  "interpreter": {
   "hash": "ab2d543e6fcd2c9d1adcb8a11712178d53957602a005263fff7c4bba6d50274d"
  },
  "kernelspec": {
   "display_name": "Python 3.6.13 64-bit ('name': conda)",
   "language": "python",
   "name": "python3"
  },
  "language_info": {
   "codemirror_mode": {
    "name": "ipython",
    "version": 3
   },
   "file_extension": ".py",
   "mimetype": "text/x-python",
   "name": "python",
   "nbconvert_exporter": "python",
   "pygments_lexer": "ipython3",
   "version": "3.6.13"
  },
  "orig_nbformat": 4
 },
 "nbformat": 4,
 "nbformat_minor": 2
}
