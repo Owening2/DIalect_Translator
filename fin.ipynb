{
 "cells": [
  {
   "cell_type": "code",
   "execution_count": 9,
   "metadata": {},
   "outputs": [],
   "source": [
    "import json\n",
    "import pandas as pd\n",
    "import re\n",
    "import numpy as np\n",
    "\n",
    "from keras.models import Sequential\n",
    "from keras.layers import Dense, LSTM, Embedding\n",
    "\n",
    "from keras.preprocessing import sequence\n",
    "from keras.utils import np_utils\n",
    "\n",
    "import os\n",
    "import shutil\n",
    "import urllib3\n",
    "import zipfile\n",
    "import pandas as pd\n",
    "import json\n",
    "import ast"
   ]
  },
  {
   "cell_type": "code",
   "execution_count": 10,
   "metadata": {},
   "outputs": [],
   "source": [
    "f = open(\"[라벨]경상도_학습데이터_1/DKCI20000001.json\", encoding=\"UTF-8\")\n",
    "raw_data = json.loads(f.read())"
   ]
  },
  {
   "cell_type": "code",
   "execution_count": 11,
   "metadata": {},
   "outputs": [],
   "source": [
    "# 사투리, 표준어 사전 생성 함수\n",
    "def make_dict(raw_data):\n",
    "\n",
    "    dialect_word = []\n",
    "    standard_word = [] \n",
    "    \n",
    "    \n",
    "    for i in range(len(raw_data[\"utterance\"])):\n",
    "        eojeol = raw_data[\"utterance\"][i][\"eojeolList\"]\n",
    "            \n",
    "        for k in range(len(eojeol)):\n",
    "            if eojeol[k][\"isDialect\"] == True:\n",
    "                if k not in dialect_word:\n",
    "                    dialect_word.append(eojeol[k]['eojeol'])\n",
    "                    standard_word.append(eojeol[k]['standard'])\n",
    "\n",
    "    word_dictionary = pd.DataFrame([dialect_word, standard_word])\n",
    "    word_dictionary = word_dictionary.transpose()\n",
    "    word_dictionary.columns = ['dialect', 'standard']\n",
    "    dialect_dictionary = word_dictionary['dialect']\n",
    "    standard_dictionary = word_dictionary['standard']\n",
    "    dialect_dict = dialect_dictionary.to_dict()\n",
    "    standard_dict = standard_dictionary.to_dict()\n",
    "\n",
    "    index_to_dialect = {v:k for k,v in dialect_dict.items()}\n",
    "    index_to_standard = {v:k for k,v in standard_dict.items()}\n",
    "\n",
    "    dialect_to_index = {v:k for k,v in index_to_dialect.items()}\n",
    "    standard_to_index = {v:k for k,v in index_to_standard.items()}\n",
    "\n",
    "    print(len(index_to_dialect))\n",
    "    print(len(dialect_to_index))\n",
    "\n",
    "    print(len(index_to_standard))\n",
    "    print(len(standard_to_index))\n",
    "    \n",
    "\n",
    "    return dialect_to_index,standard_to_index,index_to_dialect,index_to_standard\n",
    "   "
   ]
  },
  {
   "cell_type": "code",
   "execution_count": 12,
   "metadata": {},
   "outputs": [
    {
     "name": "stdout",
     "output_type": "stream",
     "text": [
      "236\n",
      "236\n",
      "223\n",
      "223\n"
     ]
    }
   ],
   "source": [
    "index_to_dialect,index_to_standard,dialect_to_index,standard_to_index = make_dict(raw_data)"
   ]
  },
  {
   "cell_type": "code",
   "execution_count": 13,
   "metadata": {},
   "outputs": [],
   "source": [
    "# 사투리 표준어 쌍 생성 함수\n",
    "def make_pair(raw_data):\n",
    "    filter = re.compile('[^가-힣+]')\n",
    "\n",
    "    dialect_form = []\n",
    "    standard_form = []\n",
    "\n",
    "    for i in range(len(raw_data[\"utterance\"])):\n",
    "        sentence = raw_data[\"utterance\"][i]\n",
    "        \n",
    "        for j in range(len(sentence[\"eojeolList\"])):\n",
    "            #print(sentence[\"eojeolList\"][0]['eojeol'])\n",
    "            if sentence[\"eojeolList\"][j]['isDialect'] == True:\n",
    "                try : \n",
    "\n",
    "                    dialect = sentence[\"eojeolList\"][j][\"eojeol\"]\n",
    "                    standard = sentence[\"eojeolList\"][j][\"standard\"]\n",
    "                    \n",
    "                    dialect = filter.sub('', dialect)\n",
    "                    standard = filter.sub('', standard)\n",
    "                    \n",
    "                    dialect = dialect_to_index[dialect]\n",
    "                    standard = standard_to_index[standard]\n",
    "\n",
    "                    dialect_form.append(dialect)\n",
    "                    standard_form.append(standard)\n",
    "                except:\n",
    "                    pass\n",
    "\n",
    "    result = pd.DataFrame(data = {\"dialect_words\":dialect_form, \"standard_words\": standard_form})\n",
    "\n",
    "\n",
    "    return result\n",
    "               "
   ]
  },
  {
   "cell_type": "code",
   "execution_count": 14,
   "metadata": {},
   "outputs": [],
   "source": [
    "pairs = make_pair(raw_data)"
   ]
  },
  {
   "cell_type": "code",
   "execution_count": 15,
   "metadata": {},
   "outputs": [],
   "source": [
    "# 사투리 사전에 존재하는지 확인하는 함수\n",
    "\n",
    "def exist_in_dialect(x):\n",
    "\n",
    "    if x in dialect_to_index:\n",
    "        return True\n",
    "    else:\n",
    "        return False\n"
   ]
  },
  {
   "cell_type": "code",
   "execution_count": 16,
   "metadata": {},
   "outputs": [
    {
     "data": {
      "text/plain": [
       "False"
      ]
     },
     "execution_count": 16,
     "metadata": {},
     "output_type": "execute_result"
    }
   ],
   "source": [
    "exist_in_dialect(\"자가격리\")"
   ]
  },
  {
   "cell_type": "code",
   "execution_count": 186,
   "metadata": {},
   "outputs": [
    {
     "data": {
      "text/plain": [
       "416"
      ]
     },
     "execution_count": 186,
     "metadata": {},
     "output_type": "execute_result"
    }
   ],
   "source": [
    "xtrain = np_utils.to_categorical(pairs[\"dialect_words\"])\n",
    "ytrain = np_utils.to_categorical(pairs[\"standard_words\"])\n",
    "len(xtrain[0])"
   ]
  },
  {
   "cell_type": "code",
   "execution_count": 187,
   "metadata": {},
   "outputs": [
    {
     "data": {
      "text/plain": [
       "(398, 416)"
      ]
     },
     "execution_count": 187,
     "metadata": {},
     "output_type": "execute_result"
    }
   ],
   "source": [
    "xtrain.shape"
   ]
  },
  {
   "cell_type": "code",
   "execution_count": 188,
   "metadata": {},
   "outputs": [],
   "source": [
    "translate_model = Sequential()\n",
    "translate_model.add(Dense(256, input_dim = 416, activation=\"relu\"))\n",
    "translate_model.add(Dense(416, activation=\"softmax\"))"
   ]
  },
  {
   "cell_type": "code",
   "execution_count": 189,
   "metadata": {},
   "outputs": [],
   "source": [
    "translate_model.compile(loss='categorical_crossentropy', optimizer='adam', metrics=['accuracy'])"
   ]
  },
  {
   "cell_type": "code",
   "execution_count": 190,
   "metadata": {},
   "outputs": [
    {
     "name": "stdout",
     "output_type": "stream",
     "text": [
      "Epoch 1/100\n",
      "4/4 [==============================] - 1s 5ms/step - loss: 6.0195 - accuracy: 0.0025\n",
      "Epoch 2/100\n",
      "4/4 [==============================] - 0s 5ms/step - loss: 5.9636 - accuracy: 0.1985\n",
      "Epoch 3/100\n",
      "4/4 [==============================] - 0s 4ms/step - loss: 5.9074 - accuracy: 0.3392\n",
      "Epoch 4/100\n",
      "4/4 [==============================] - 0s 3ms/step - loss: 5.8494 - accuracy: 0.4322\n",
      "Epoch 5/100\n",
      "4/4 [==============================] - 0s 5ms/step - loss: 5.7853 - accuracy: 0.4673\n",
      "Epoch 6/100\n",
      "4/4 [==============================] - 0s 5ms/step - loss: 5.7161 - accuracy: 0.4774\n",
      "Epoch 7/100\n",
      "4/4 [==============================] - 0s 5ms/step - loss: 5.6371 - accuracy: 0.4724\n",
      "Epoch 8/100\n",
      "4/4 [==============================] - 0s 8ms/step - loss: 5.5484 - accuracy: 0.4749\n",
      "Epoch 9/100\n",
      "4/4 [==============================] - 0s 5ms/step - loss: 5.4495 - accuracy: 0.4623\n",
      "Epoch 10/100\n",
      "4/4 [==============================] - 0s 3ms/step - loss: 5.3387 - accuracy: 0.4523\n",
      "Epoch 11/100\n",
      "4/4 [==============================] - 0s 3ms/step - loss: 5.2156 - accuracy: 0.4372\n",
      "Epoch 12/100\n",
      "4/4 [==============================] - 0s 5ms/step - loss: 5.0783 - accuracy: 0.4296\n",
      "Epoch 13/100\n",
      "4/4 [==============================] - 0s 4ms/step - loss: 4.9261 - accuracy: 0.4246\n",
      "Epoch 14/100\n",
      "4/4 [==============================] - 0s 3ms/step - loss: 4.7642 - accuracy: 0.4196\n",
      "Epoch 15/100\n",
      "4/4 [==============================] - 0s 3ms/step - loss: 4.5837 - accuracy: 0.4121\n",
      "Epoch 16/100\n",
      "4/4 [==============================] - 0s 6ms/step - loss: 4.3977 - accuracy: 0.4070\n",
      "Epoch 17/100\n",
      "4/4 [==============================] - 0s 5ms/step - loss: 4.1983 - accuracy: 0.3945\n",
      "Epoch 18/100\n",
      "4/4 [==============================] - 0s 4ms/step - loss: 3.9996 - accuracy: 0.3869\n",
      "Epoch 19/100\n",
      "4/4 [==============================] - 0s 4ms/step - loss: 3.7939 - accuracy: 0.3819\n",
      "Epoch 20/100\n",
      "4/4 [==============================] - 0s 5ms/step - loss: 3.5926 - accuracy: 0.3794\n",
      "Epoch 21/100\n",
      "4/4 [==============================] - 0s 4ms/step - loss: 3.4020 - accuracy: 0.3719\n",
      "Epoch 22/100\n",
      "4/4 [==============================] - 0s 4ms/step - loss: 3.2242 - accuracy: 0.3719\n",
      "Epoch 23/100\n",
      "4/4 [==============================] - 0s 4ms/step - loss: 3.0623 - accuracy: 0.3719\n",
      "Epoch 24/100\n",
      "4/4 [==============================] - 0s 4ms/step - loss: 2.9186 - accuracy: 0.3794\n",
      "Epoch 25/100\n",
      "4/4 [==============================] - 0s 3ms/step - loss: 2.7875 - accuracy: 0.3844\n",
      "Epoch 26/100\n",
      "4/4 [==============================] - 0s 5ms/step - loss: 2.6662 - accuracy: 0.3894\n",
      "Epoch 27/100\n",
      "4/4 [==============================] - 0s 9ms/step - loss: 2.5508 - accuracy: 0.4121\n",
      "Epoch 28/100\n",
      "4/4 [==============================] - 0s 4ms/step - loss: 2.4403 - accuracy: 0.4523\n",
      "Epoch 29/100\n",
      "4/4 [==============================] - 0s 4ms/step - loss: 2.3368 - accuracy: 0.4749\n",
      "Epoch 30/100\n",
      "4/4 [==============================] - 0s 3ms/step - loss: 2.2339 - accuracy: 0.4899\n",
      "Epoch 31/100\n",
      "4/4 [==============================] - 0s 3ms/step - loss: 2.1349 - accuracy: 0.4975\n",
      "Epoch 32/100\n",
      "4/4 [==============================] - 0s 3ms/step - loss: 2.0386 - accuracy: 0.5151\n",
      "Epoch 33/100\n",
      "4/4 [==============================] - 0s 4ms/step - loss: 1.9445 - accuracy: 0.5603\n",
      "Epoch 34/100\n",
      "4/4 [==============================] - 0s 7ms/step - loss: 1.8522 - accuracy: 0.6231\n",
      "Epoch 35/100\n",
      "4/4 [==============================] - 0s 4ms/step - loss: 1.7620 - accuracy: 0.7060\n",
      "Epoch 36/100\n",
      "4/4 [==============================] - 0s 4ms/step - loss: 1.6745 - accuracy: 0.7990\n",
      "Epoch 37/100\n",
      "4/4 [==============================] - 0s 4ms/step - loss: 1.5864 - accuracy: 0.8869\n",
      "Epoch 38/100\n",
      "4/4 [==============================] - 0s 4ms/step - loss: 1.5006 - accuracy: 0.9296\n",
      "Epoch 39/100\n",
      "4/4 [==============================] - 0s 4ms/step - loss: 1.4184 - accuracy: 0.9447\n",
      "Epoch 40/100\n",
      "4/4 [==============================] - 0s 4ms/step - loss: 1.3375 - accuracy: 0.9472\n",
      "Epoch 41/100\n",
      "4/4 [==============================] - 0s 4ms/step - loss: 1.2561 - accuracy: 0.9523\n",
      "Epoch 42/100\n",
      "4/4 [==============================] - 0s 4ms/step - loss: 1.1790 - accuracy: 0.9523\n",
      "Epoch 43/100\n",
      "4/4 [==============================] - 0s 3ms/step - loss: 1.1026 - accuracy: 0.9523\n",
      "Epoch 44/100\n",
      "4/4 [==============================] - 0s 3ms/step - loss: 1.0292 - accuracy: 0.9523\n",
      "Epoch 45/100\n",
      "4/4 [==============================] - 0s 3ms/step - loss: 0.9590 - accuracy: 0.9523\n",
      "Epoch 46/100\n",
      "4/4 [==============================] - 0s 5ms/step - loss: 0.8904 - accuracy: 0.9523\n",
      "Epoch 47/100\n",
      "4/4 [==============================] - 0s 10ms/step - loss: 0.8263 - accuracy: 0.9523\n",
      "Epoch 48/100\n",
      "4/4 [==============================] - 0s 5ms/step - loss: 0.7648 - accuracy: 0.9523\n",
      "Epoch 49/100\n",
      "4/4 [==============================] - 0s 3ms/step - loss: 0.7073 - accuracy: 0.9523\n",
      "Epoch 50/100\n",
      "4/4 [==============================] - 0s 3ms/step - loss: 0.6516 - accuracy: 0.9523\n",
      "Epoch 51/100\n",
      "4/4 [==============================] - 0s 4ms/step - loss: 0.6035 - accuracy: 0.9523\n",
      "Epoch 52/100\n",
      "4/4 [==============================] - 0s 4ms/step - loss: 0.5562 - accuracy: 0.9523\n",
      "Epoch 53/100\n",
      "4/4 [==============================] - 0s 5ms/step - loss: 0.5149 - accuracy: 0.9523\n",
      "Epoch 54/100\n",
      "4/4 [==============================] - 0s 5ms/step - loss: 0.4757 - accuracy: 0.9523\n",
      "Epoch 55/100\n",
      "4/4 [==============================] - 0s 5ms/step - loss: 0.4414 - accuracy: 0.9523\n",
      "Epoch 56/100\n",
      "4/4 [==============================] - 0s 4ms/step - loss: 0.4100 - accuracy: 0.9523\n",
      "Epoch 57/100\n",
      "4/4 [==============================] - 0s 5ms/step - loss: 0.3832 - accuracy: 0.9523\n",
      "Epoch 58/100\n",
      "4/4 [==============================] - 0s 4ms/step - loss: 0.3584 - accuracy: 0.9523\n",
      "Epoch 59/100\n",
      "4/4 [==============================] - 0s 4ms/step - loss: 0.3372 - accuracy: 0.9523\n",
      "Epoch 60/100\n",
      "4/4 [==============================] - 0s 4ms/step - loss: 0.3179 - accuracy: 0.9523\n",
      "Epoch 61/100\n",
      "4/4 [==============================] - 0s 4ms/step - loss: 0.3013 - accuracy: 0.9523\n",
      "Epoch 62/100\n",
      "4/4 [==============================] - 0s 4ms/step - loss: 0.2861 - accuracy: 0.9523\n",
      "Epoch 63/100\n",
      "4/4 [==============================] - 0s 10ms/step - loss: 0.2731 - accuracy: 0.9523\n",
      "Epoch 64/100\n",
      "4/4 [==============================] - 0s 4ms/step - loss: 0.2616 - accuracy: 0.9523\n",
      "Epoch 65/100\n",
      "4/4 [==============================] - 0s 5ms/step - loss: 0.2511 - accuracy: 0.9523\n",
      "Epoch 66/100\n",
      "4/4 [==============================] - 0s 5ms/step - loss: 0.2416 - accuracy: 0.9523\n",
      "Epoch 67/100\n",
      "4/4 [==============================] - 0s 5ms/step - loss: 0.2337 - accuracy: 0.9523\n",
      "Epoch 68/100\n",
      "4/4 [==============================] - 0s 5ms/step - loss: 0.2262 - accuracy: 0.9523\n",
      "Epoch 69/100\n",
      "4/4 [==============================] - 0s 5ms/step - loss: 0.2194 - accuracy: 0.9523\n",
      "Epoch 70/100\n",
      "4/4 [==============================] - 0s 5ms/step - loss: 0.2133 - accuracy: 0.9523\n",
      "Epoch 71/100\n",
      "4/4 [==============================] - 0s 6ms/step - loss: 0.2080 - accuracy: 0.9523\n",
      "Epoch 72/100\n",
      "4/4 [==============================] - 0s 4ms/step - loss: 0.2030 - accuracy: 0.9523\n",
      "Epoch 73/100\n",
      "4/4 [==============================] - 0s 4ms/step - loss: 0.1983 - accuracy: 0.9523\n",
      "Epoch 74/100\n",
      "4/4 [==============================] - 0s 4ms/step - loss: 0.1942 - accuracy: 0.9523\n",
      "Epoch 75/100\n",
      "4/4 [==============================] - 0s 4ms/step - loss: 0.1906 - accuracy: 0.9497\n",
      "Epoch 76/100\n",
      "4/4 [==============================] - 0s 4ms/step - loss: 0.1870 - accuracy: 0.9497\n",
      "Epoch 77/100\n",
      "4/4 [==============================] - 0s 4ms/step - loss: 0.1837 - accuracy: 0.9523\n",
      "Epoch 78/100\n",
      "4/4 [==============================] - 0s 4ms/step - loss: 0.1809 - accuracy: 0.9523\n",
      "Epoch 79/100\n",
      "4/4 [==============================] - 0s 4ms/step - loss: 0.1780 - accuracy: 0.9523\n",
      "Epoch 80/100\n",
      "4/4 [==============================] - 0s 5ms/step - loss: 0.1754 - accuracy: 0.9523\n",
      "Epoch 81/100\n",
      "4/4 [==============================] - 0s 25ms/step - loss: 0.1734 - accuracy: 0.9523\n",
      "Epoch 82/100\n",
      "4/4 [==============================] - 0s 5ms/step - loss: 0.1707 - accuracy: 0.9523\n",
      "Epoch 83/100\n",
      "4/4 [==============================] - 0s 7ms/step - loss: 0.1687 - accuracy: 0.9523\n",
      "Epoch 84/100\n",
      "4/4 [==============================] - 0s 16ms/step - loss: 0.1668 - accuracy: 0.9523\n",
      "Epoch 85/100\n",
      "4/4 [==============================] - 0s 6ms/step - loss: 0.1648 - accuracy: 0.9523\n",
      "Epoch 86/100\n",
      "4/4 [==============================] - 0s 6ms/step - loss: 0.1631 - accuracy: 0.9523\n",
      "Epoch 87/100\n",
      "4/4 [==============================] - 0s 6ms/step - loss: 0.1614 - accuracy: 0.9523\n",
      "Epoch 88/100\n",
      "4/4 [==============================] - 0s 6ms/step - loss: 0.1598 - accuracy: 0.9523\n",
      "Epoch 89/100\n",
      "4/4 [==============================] - 0s 7ms/step - loss: 0.1584 - accuracy: 0.9523\n",
      "Epoch 90/100\n",
      "4/4 [==============================] - 0s 5ms/step - loss: 0.1570 - accuracy: 0.9523\n",
      "Epoch 91/100\n",
      "4/4 [==============================] - 0s 4ms/step - loss: 0.1557 - accuracy: 0.9523\n",
      "Epoch 92/100\n",
      "4/4 [==============================] - 0s 3ms/step - loss: 0.1545 - accuracy: 0.9523\n",
      "Epoch 93/100\n",
      "4/4 [==============================] - 0s 3ms/step - loss: 0.1532 - accuracy: 0.9497\n",
      "Epoch 94/100\n",
      "4/4 [==============================] - 0s 3ms/step - loss: 0.1523 - accuracy: 0.9497\n",
      "Epoch 95/100\n",
      "4/4 [==============================] - 0s 4ms/step - loss: 0.1509 - accuracy: 0.9523\n",
      "Epoch 96/100\n",
      "4/4 [==============================] - 0s 4ms/step - loss: 0.1500 - accuracy: 0.9523\n",
      "Epoch 97/100\n",
      "4/4 [==============================] - 0s 4ms/step - loss: 0.1492 - accuracy: 0.9523\n",
      "Epoch 98/100\n",
      "4/4 [==============================] - 0s 4ms/step - loss: 0.1481 - accuracy: 0.9523\n",
      "Epoch 99/100\n",
      "4/4 [==============================] - 0s 12ms/step - loss: 0.1475 - accuracy: 0.9497\n",
      "Epoch 100/100\n",
      "4/4 [==============================] - 0s 6ms/step - loss: 0.1467 - accuracy: 0.9497\n"
     ]
    },
    {
     "data": {
      "text/plain": [
       "<keras.callbacks.History at 0x234b3033278>"
      ]
     },
     "execution_count": 190,
     "metadata": {},
     "output_type": "execute_result"
    }
   ],
   "source": [
    "translate_model.fit(xtrain, ytrain, batch_size=100, epochs=100)"
   ]
  },
  {
   "cell_type": "code",
   "execution_count": 193,
   "metadata": {},
   "outputs": [],
   "source": [
    "# 사투리 단어 번역 함수\n",
    "def translate(word):\n",
    "    for i in range(len(sentence)):\n",
    "        if exist_in_dialect(sentence[i]) == True:\n",
    "            print(dialect_to_index[sentence[i]])\n",
    "            index = dialect_to_index[sentence[i]]\n",
    "            one_hot = np_utils.to_categorical(index,len(xtrain[0])) #인덱스 배열의크기 지정 필요 size_of_dialect\n",
    "            pred_index = np.argmax(translate_model.predict(np.array([one_hot])))\n",
    "            res = res + \" \" + index_to_standard[pred_index]\n",
    "\n",
    "        else:\n",
    "            res = res + \" \" + sentence[i]\n",
    "\n",
    "    return res\n"
   ]
  },
  {
   "cell_type": "code",
   "execution_count": 194,
   "metadata": {},
   "outputs": [
    {
     "name": "stdout",
     "output_type": "stream",
     "text": [
      "357\n",
      "407\n"
     ]
    },
    {
     "data": {
      "text/plain": [
       "' 자가격리 이주 했지 않니'"
      ]
     },
     "execution_count": 194,
     "metadata": {},
     "output_type": "execute_result"
    }
   ],
   "source": [
    "translate(\"자가격리 이주 했다 아이가\")"
   ]
  },
  {
   "cell_type": "code",
   "execution_count": 24,
   "metadata": {},
   "outputs": [
    {
     "data": {
      "text/plain": [
       "False"
      ]
     },
     "execution_count": 24,
     "metadata": {},
     "output_type": "execute_result"
    }
   ],
   "source": [
    "exist_in_dialect(\"인덱스\")"
   ]
  },
  {
   "cell_type": "code",
   "execution_count": 25,
   "metadata": {},
   "outputs": [],
   "source": [
    "pos_dict = {}"
   ]
  },
  {
   "cell_type": "code",
   "execution_count": null,
   "metadata": {},
   "outputs": [],
   "source": []
  },
  {
   "cell_type": "code",
   "execution_count": 26,
   "metadata": {},
   "outputs": [],
   "source": [
    "def make_eojeol():\n",
    "    res = 0\n",
    "\n",
    "    return res"
   ]
  },
  {
   "cell_type": "code",
   "execution_count": 27,
   "metadata": {},
   "outputs": [],
   "source": [
    "eojeol_dict = make_eojeol()\n"
   ]
  },
  {
   "cell_type": "code",
   "execution_count": 28,
   "metadata": {},
   "outputs": [],
   "source": [
    "def eojeol_dependence():\n",
    "    res = 0\n",
    "    return res"
   ]
  },
  {
   "cell_type": "code",
   "execution_count": 29,
   "metadata": {},
   "outputs": [],
   "source": [
    "df_eojeol_dependence = eojeol_dependence()"
   ]
  },
  {
   "cell_type": "code",
   "execution_count": 198,
   "metadata": {},
   "outputs": [],
   "source": [
    "def predict_synonym(sentence):\n",
    "    res = \"\"\n",
    "    sentence_sep = sentence.split()\n",
    "    print(sentence_sep)\n",
    "    for i in range(len(sentence_sep)):\n",
    "        print(i)\n",
    "        if exist_in_dialect(sentence_sep[i]) == True: #사투리 사전에 있으면\n",
    "            if sentence_sep[i] in eojeol_dict.keys(): #해당 단어가 전체 사전에 있으면\n",
    "\n",
    "                pos, _ = get_mods(sentence, i) #연관된 단어의 품사 받아옴\n",
    "                pos_idx = pos_dict[pos] #품사의 인덱스\n",
    "                word = sentence_sep[i] \n",
    "                word0_idx = eojeol_dict[word+\"0\"] #단어0의 인덱스\n",
    "                word_idx = eojeol_dict[word] #단어의 인덱스\n",
    "\n",
    "                #one_hot = np_utils.to_categorical(pos_idx,len(xtrain[0])) #인덱스 배열의크기 지정 필요 size_of_dialect\n",
    "                percentage = tmp_model.predict(np.array([one_hot]))\n",
    "                res_idx = max(percentage[word0_idx], percentage[word_idx]) # 둘 중 더 큰 확률값\n",
    "                \n",
    "                one_hot = np_utils.to_categorical(res_idx,len(xtrain[0])) #인덱스 배열의크기 지정 필요 size_of_dialect\n",
    "                pred_index = np.argmax(translate_model.predict(np.array([one_hot])))\n",
    "\n",
    "\n",
    "                #pred_index = np.argmax(translate_model.predict(np.array([one_hot])))\n",
    "                \n",
    "\n",
    "                print(\"yes\")\n",
    "                #model.predict()\n",
    "                res = res + \" \" + word+\"0\"\n",
    "            else:\n",
    "                word = sentence_sep[i] #단어의 인덱스\n",
    "                word0_idx = eojeol_dict[word+\"0\"] #단어0의 인덱스\n",
    "                one_hot = np_utils.to_categorical(index,len(xtrain[0])) #인덱스 배열의크기 지정 필요 size_of_dialect\n",
    "                pred_index = np.argmax(translate_model.predict(np.array([one_hot])))\n",
    "        else:\n",
    "            res = res + \" \" + sentence_sep[i]\n",
    "            \n",
    "    \n",
    "    return res"
   ]
  },
  {
   "cell_type": "code",
   "execution_count": 201,
   "metadata": {},
   "outputs": [
    {
     "data": {
      "text/plain": [
       "2"
      ]
     },
     "execution_count": 201,
     "metadata": {},
     "output_type": "execute_result"
    }
   ],
   "source": [
    "max(1,2)"
   ]
  },
  {
   "cell_type": "code",
   "execution_count": 199,
   "metadata": {},
   "outputs": [],
   "source": [
    "pos_dict = {'VP_MOD':0, \"VP\":1}\n",
    "eojeol_dict = {\"아이가0\":0, \"아이가\":1, \"있지\":2, \"않니\":3}"
   ]
  },
  {
   "cell_type": "code",
   "execution_count": 200,
   "metadata": {},
   "outputs": [
    {
     "name": "stdout",
     "output_type": "stream",
     "text": [
      "['착한', '아이가', '있다', '아이가']\n",
      "0\n",
      "1\n",
      "아이가\n",
      "yes\n",
      "2\n",
      "3\n",
      "아이가\n",
      "yes\n"
     ]
    },
    {
     "data": {
      "text/plain": [
       "' 착한 아이가0 있다 아이가0'"
      ]
     },
     "execution_count": 200,
     "metadata": {},
     "output_type": "execute_result"
    }
   ],
   "source": [
    "tmp = predict_synonym(\"착한 아이가 있다 아이가\")\n",
    "tmp"
   ]
  },
  {
   "cell_type": "code",
   "execution_count": 161,
   "metadata": {},
   "outputs": [],
   "source": [
    "def get_mods(sentence, num):\n",
    "    openApiURL = \"http://aiopen.etri.re.kr:8000/WiseNLU\"\n",
    "\n",
    "    accessKey = \"aba3a45d-3318-4061-8a5d-799c8521b082\"\n",
    "    analysisCode = \"dparse\"\n",
    "\n",
    "    text = sentence\n",
    "    \n",
    "    requestJson = {\n",
    "        \"access_key\": accessKey,\n",
    "        \"argument\": {\n",
    "            \"text\": text,\n",
    "            \"analysis_code\": analysisCode\n",
    "        }\n",
    "    }\n",
    "\n",
    "    http = urllib3.PoolManager()\n",
    "\n",
    "    response = http.request(\n",
    "        \"POST\",\n",
    "        openApiURL,\n",
    "        headers={\"Content-Type\": \"application/json; charset=UTF-8\"},\n",
    "        body=json.dumps(requestJson)\n",
    "    )\n",
    "\n",
    "    tmp = ast.literal_eval(response.data.decode('utf-8'))\n",
    "    dict_with_mods = tmp[\"return_object\"][\"sentence\"][0][\"dependency\"]\n",
    "\n",
    "    #print(dict_with_mods[num][\"mod\"][0])\n",
    "    id=int(dict_with_mods[num][\"mod\"][0])\n",
    "    pos = dict_with_mods[id][\"label\"]\n",
    "    \n",
    "    return pos, dict_with_mods[id][\"text\"]"
   ]
  },
  {
   "cell_type": "code",
   "execution_count": 162,
   "metadata": {},
   "outputs": [
    {
     "data": {
      "text/plain": [
       "('VP_MOD', '착한')"
      ]
     },
     "execution_count": 162,
     "metadata": {},
     "output_type": "execute_result"
    }
   ],
   "source": [
    "get_mods(\"착한 아이가 있다 아이가\", 1)"
   ]
  },
  {
   "cell_type": "code",
   "execution_count": 35,
   "metadata": {},
   "outputs": [],
   "source": [
    "index = dialect_to_index[\"아이가\"]\n",
    "one_hot = np_utils.to_categorical(index,len(xtrain[0])) #인덱스 배열의크기 지정 필요 size_of_dialect\n",
    "pred_index = np.argmax(model.predict(np.array([one_hot])))"
   ]
  },
  {
   "cell_type": "code",
   "execution_count": 38,
   "metadata": {},
   "outputs": [
    {
     "data": {
      "text/plain": [
       "array([[3.41646337e-05, 7.66829089e-07, 5.57304702e-07, 5.62017021e-07,\n",
       "        4.90441664e-07, 1.53379151e-05, 8.81171729e-07, 7.29771898e-07,\n",
       "        5.64388927e-07, 1.70652456e-05, 7.40889561e-07, 6.73411364e-07,\n",
       "        2.89047039e-05, 3.17146187e-05, 8.27689462e-07, 6.84502197e-07,\n",
       "        1.99444639e-05, 8.16351530e-07, 5.48711569e-07, 3.17239974e-05,\n",
       "        7.18649687e-07, 1.86942889e-05, 6.73435750e-07, 7.89718229e-07,\n",
       "        5.94670666e-07, 8.90942488e-07, 4.44952150e-07, 4.12420668e-05,\n",
       "        5.75113404e-07, 5.61686420e-07, 1.00661180e-06, 3.12426491e-05,\n",
       "        4.65670419e-05, 1.03706725e-05, 7.65277377e-07, 6.62722016e-07,\n",
       "        2.31959639e-05, 5.93304947e-07, 3.00328702e-05, 5.11552535e-05,\n",
       "        1.05850932e-05, 2.69867633e-05, 1.27453832e-05, 8.27230963e-07,\n",
       "        1.40969460e-05, 7.86846499e-07, 8.47686181e-07, 6.74459613e-07,\n",
       "        1.47911787e-05, 6.35333379e-07, 5.58367617e-07, 1.10529973e-05,\n",
       "        7.88745012e-07, 6.93989080e-07, 7.10668814e-07, 3.17789891e-05,\n",
       "        6.57223666e-07, 5.46195110e-07, 5.65564624e-05, 8.05060608e-07,\n",
       "        2.29892594e-05, 5.94305561e-07, 9.28779700e-05, 2.08612128e-05,\n",
       "        6.11816233e-07, 3.93380324e-05, 2.78069820e-05, 8.79090067e-07,\n",
       "        6.43737167e-07, 1.30634935e-05, 6.40702410e-07, 1.88195590e-05,\n",
       "        6.62547620e-07, 7.69131759e-07, 5.39166990e-07, 4.29804004e-07,\n",
       "        2.05016458e-05, 6.17056003e-07, 1.83236898e-05, 1.68685856e-05,\n",
       "        6.32069350e-05, 1.96451256e-05, 2.03939835e-05, 5.46254000e-07,\n",
       "        4.71282220e-07, 2.51475922e-05, 8.46816704e-07, 7.10549557e-07,\n",
       "        5.63383310e-07, 3.78177392e-05, 6.99834402e-07, 5.46180559e-07,\n",
       "        9.28274005e-07, 6.52613664e-07, 4.52701983e-07, 5.68440773e-05,\n",
       "        7.49364176e-07, 5.01244103e-05, 5.70069346e-07, 7.43168187e-07,\n",
       "        9.48904108e-06, 5.05342086e-07, 6.50288825e-07, 8.03864566e-07,\n",
       "        1.41396413e-05, 3.78622753e-05, 2.17002580e-05, 1.96888996e-05,\n",
       "        4.13591661e-05, 1.75267087e-05, 8.73122815e-07, 1.65350939e-05,\n",
       "        3.35011500e-05, 6.41925653e-05, 9.67241249e-06, 4.14117385e-05,\n",
       "        1.80108473e-05, 2.12952764e-05, 2.36514788e-05, 2.26117882e-05,\n",
       "        7.37151424e-07, 2.97323877e-05, 2.33559440e-05, 3.00333868e-05,\n",
       "        7.52447818e-07, 2.54660426e-05, 6.41165116e-07, 6.60571573e-07,\n",
       "        2.22309500e-05, 1.13939750e-05, 8.15711815e-07, 1.09371413e-05,\n",
       "        1.41862265e-05, 1.56450078e-05, 7.84877727e-07, 6.97849032e-07,\n",
       "        8.24598374e-06, 6.09643223e-07, 7.36981974e-07, 8.69892665e-06,\n",
       "        5.18907598e-07, 4.34065356e-07, 5.25839596e-07, 5.59952468e-07,\n",
       "        7.73910324e-06, 6.73389536e-07, 7.79518700e-07, 6.85984958e-07,\n",
       "        1.02772865e-05, 2.16890439e-05, 1.56286787e-05, 8.41781148e-05,\n",
       "        1.60937980e-05, 6.57356509e-07, 1.94679087e-05, 1.74911074e-05,\n",
       "        6.43749445e-07, 7.18144804e-07, 3.05215326e-05, 3.57461286e-05,\n",
       "        1.22281017e-05, 1.75826917e-05, 5.54594371e-05, 5.97708549e-07,\n",
       "        4.12089648e-05, 9.13455588e-05, 9.28674240e-07, 5.16210662e-07,\n",
       "        5.78493029e-07, 1.19931674e-05, 8.44138128e-07, 4.90812738e-07,\n",
       "        6.39981181e-07, 2.68115527e-05, 5.10223856e-07, 7.60894238e-07,\n",
       "        7.54642542e-07, 1.40923094e-05, 1.92091611e-05, 9.19753256e-06,\n",
       "        1.96763249e-05, 2.32573675e-05, 4.40286203e-05, 1.60489362e-05,\n",
       "        1.10807223e-05, 6.70814131e-07, 1.12951229e-05, 7.94106086e-07,\n",
       "        6.85235648e-07, 3.16677761e-05, 3.83114348e-05, 4.43176104e-05,\n",
       "        4.40046933e-05, 5.47721356e-07, 6.14028124e-07, 2.20961192e-05,\n",
       "        4.60520896e-05, 6.51590597e-07, 7.56746886e-07, 4.82450105e-07,\n",
       "        1.58896451e-04, 5.95402696e-07, 6.26093367e-07, 6.63666242e-07,\n",
       "        4.92706058e-05, 6.43985857e-07, 7.41900635e-07, 3.69699788e-04,\n",
       "        2.71091594e-05, 6.83693884e-07, 1.18406988e-05, 3.12230513e-05,\n",
       "        7.28520263e-07, 2.49300101e-05, 5.93541472e-07, 2.82034798e-05,\n",
       "        6.37483708e-07, 7.03498756e-07, 1.53869059e-05, 4.14082194e-07,\n",
       "        5.43038254e-07, 6.09820006e-07, 5.29971912e-05, 1.05369970e-01,\n",
       "        4.90136870e-07, 6.88618002e-07, 4.92995980e-07, 3.57492972e-05,\n",
       "        5.09557196e-07, 4.64962568e-07, 7.17599164e-07, 5.72195802e-07,\n",
       "        6.89144201e-07, 1.96119545e-05, 1.15556031e-05, 3.47706264e-05,\n",
       "        5.03809474e-07, 1.45939493e-05, 1.68264578e-05, 6.75066417e-07,\n",
       "        6.05084665e-07, 1.45769391e-05, 8.12949452e-07, 5.39505436e-07,\n",
       "        5.52772121e-07, 2.82902729e-05, 5.86745159e-07, 5.66487643e-07,\n",
       "        5.50288973e-07, 1.26900404e-05, 3.11793374e-05, 7.27396036e-06,\n",
       "        5.60682906e-07, 5.32293768e-07, 6.69140093e-07, 9.61853175e-07,\n",
       "        6.39137056e-07, 7.26599637e-07, 2.04790558e-05, 1.28655942e-04,\n",
       "        7.82401059e-07, 3.98470875e-05, 2.29055313e-05, 6.25776408e-07,\n",
       "        5.66542724e-07, 1.50496880e-05, 5.53191910e-07, 6.87278259e-07,\n",
       "        2.70499950e-05, 5.33109130e-07, 9.14157056e-07, 1.77150505e-05,\n",
       "        1.76564063e-05, 1.90266946e-05, 8.66208029e-06, 1.49635061e-05,\n",
       "        6.60756200e-07, 3.64322150e-05, 2.79378128e-05, 5.47146556e-07,\n",
       "        7.14304008e-07, 5.68612052e-07, 1.23798673e-05, 4.07815314e-05,\n",
       "        1.99169044e-05, 7.60744740e-07, 2.28936060e-05, 6.83326164e-07,\n",
       "        2.70459186e-05, 6.10814141e-07, 9.60667894e-05, 1.07526357e-05,\n",
       "        6.22200560e-07, 6.55762392e-07, 7.14642681e-07, 4.41998454e-05,\n",
       "        5.82854864e-06, 1.18994949e-05, 5.73631098e-07, 4.74749839e-07,\n",
       "        5.97068777e-07, 2.30244750e-05, 8.61501831e-05, 5.34166702e-07,\n",
       "        6.61330489e-07, 3.65169719e-04, 6.47890147e-07, 1.65549591e-05,\n",
       "        4.82332362e-05, 5.26253984e-07, 2.52845693e-05, 5.62502805e-07,\n",
       "        3.80158272e-05, 3.54346485e-05, 4.88404851e-07, 4.40834046e-05,\n",
       "        7.94157586e-07, 7.64918411e-07, 2.02462033e-05, 6.19959906e-07,\n",
       "        6.14249529e-07, 8.50771755e-07, 6.51358278e-07, 2.18314035e-05,\n",
       "        6.79523225e-07, 5.63078743e-07, 1.95083685e-05, 9.20583773e-07,\n",
       "        3.72061259e-05, 5.42589987e-07, 7.77872344e-07, 6.95196661e-07,\n",
       "        5.49453091e-07, 5.11494932e-07, 4.50822682e-07, 7.97258224e-07,\n",
       "        1.35597056e-05, 1.92743064e-05, 6.25277096e-07, 6.05541914e-07,\n",
       "        4.71936204e-07, 1.69254363e-05, 6.99028021e-07, 6.95942276e-07,\n",
       "        5.29375257e-07, 6.98697420e-07, 6.98562133e-07, 9.17785655e-07,\n",
       "        4.68334147e-05, 2.37617169e-05, 2.35375101e-05, 5.89928675e-07,\n",
       "        7.17448586e-07, 3.51939489e-05, 3.43775355e-05, 2.79333908e-05,\n",
       "        6.62620891e-07, 4.33500281e-05, 8.43804855e-07, 3.20392282e-05,\n",
       "        6.07367213e-07, 7.03678552e-07, 1.24711223e-05, 5.87185639e-07,\n",
       "        5.07505320e-05, 4.93059986e-07, 6.87532738e-05, 6.42553402e-07,\n",
       "        1.00214975e-05, 1.50747701e-05, 1.95830598e-05, 4.43793539e-07,\n",
       "        6.16628386e-05, 3.59428923e-05, 5.62991204e-07, 8.37333027e-06,\n",
       "        9.14868269e-06, 6.91361265e-07, 2.45232204e-05, 5.49349388e-05,\n",
       "        6.91796668e-05, 7.23301200e-05, 5.92142726e-07, 5.38217591e-07,\n",
       "        3.16086371e-05, 4.43905737e-05, 4.55472691e-05, 6.14516694e-07,\n",
       "        7.48448247e-06, 1.40954671e-05, 5.74444584e-07, 6.35516358e-07,\n",
       "        5.86243402e-07, 2.91839042e-05, 5.59243745e-07, 1.90920928e-05,\n",
       "        2.09842874e-05, 2.87063904e-05, 1.90463925e-05, 9.32240582e-05,\n",
       "        6.41917313e-06, 5.65687003e-07, 9.00283121e-05, 2.31446120e-05,\n",
       "        8.84422752e-06, 3.03066063e-05, 5.12879778e-05, 8.86273205e-01,\n",
       "        1.08577115e-05, 6.67662505e-07, 4.02136866e-05, 5.70483280e-07,\n",
       "        1.06130075e-03, 3.93618990e-07, 5.24298812e-04, 2.76824612e-05]],\n",
       "      dtype=float32)"
      ]
     },
     "execution_count": 38,
     "metadata": {},
     "output_type": "execute_result"
    }
   ],
   "source": [
    "model.predict(np.array([one_hot]))"
   ]
  }
 ],
 "metadata": {
  "interpreter": {
   "hash": "ab2d543e6fcd2c9d1adcb8a11712178d53957602a005263fff7c4bba6d50274d"
  },
  "kernelspec": {
   "display_name": "Python 3.6.13 64-bit ('name': conda)",
   "language": "python",
   "name": "python3"
  },
  "language_info": {
   "codemirror_mode": {
    "name": "ipython",
    "version": 3
   },
   "file_extension": ".py",
   "mimetype": "text/x-python",
   "name": "python",
   "nbconvert_exporter": "python",
   "pygments_lexer": "ipython3",
   "version": "3.6.13"
  },
  "orig_nbformat": 4
 },
 "nbformat": 4,
 "nbformat_minor": 2
}
